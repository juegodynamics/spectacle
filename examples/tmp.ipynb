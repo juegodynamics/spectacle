{
 "cells": [
  {
   "cell_type": "code",
   "execution_count": 1,
   "metadata": {},
   "outputs": [
    {
     "data": {
      "text/html": [
       "<pre style=\"white-space:pre;overflow-x:auto;line-height:normal;font-family:Menlo,'DejaVu Sans Mono',consolas,'Courier New',monospace\">Manim Community <span style=\"color: #008000; text-decoration-color: #008000\">v0.14.0</span>\n",
       "\n",
       "</pre>\n"
      ],
      "text/plain": [
       "Manim Community \u001b[32mv0.\u001b[0m\u001b[32m14.0\u001b[0m\n",
       "\n"
      ]
     },
     "metadata": {},
     "output_type": "display_data"
    },
    {
     "name": "stdout",
     "output_type": "stream",
     "text": [
      "Welcome to spectacle\n"
     ]
    }
   ],
   "source": [
    "from spectacle import *"
   ]
  },
  {
   "cell_type": "code",
   "execution_count": 22,
   "metadata": {},
   "outputs": [
    {
     "name": "stderr",
     "output_type": "stream",
     "text": [
      "                                                             \r"
     ]
    },
    {
     "data": {
      "text/html": [
       "<video src=\"media/jupyter/Test@2022-01-17@11-18-50.mp4\" controls autoplay loop style=\"max-width: 60%;\"  >\n",
       "      Your browser does not support the <code>video</code> element.\n",
       "    </video>"
      ],
      "text/plain": [
       "<IPython.core.display.Video object>"
      ]
     },
     "metadata": {},
     "output_type": "display_data"
    }
   ],
   "source": [
    "%%manim -v WARNING --disable_caching -qm Test\n",
    "\n",
    "class Test(Scene):\n",
    "    def construct(self):\n",
    "        stopwatch = StopWatch()\n",
    "        self.add(stopwatch)\n",
    "        \n",
    "        stopwatch.start_running()\n",
    "        self.wait(4)\n",
    "        \n",
    "\n",
    "\n",
    "class StopWatch(VGroup):\n",
    "    def __init__(self, center=ORIGIN, primary_color=WHITE, bg_color=BLACK):\n",
    "        self.main_center = center\n",
    "        self.outer_radius = 1.5\n",
    "        self.inner_radius = 1.25\n",
    "        self.primary_color=primary_color\n",
    "        self.bg_color=bg_color\n",
    "        self.outer_circle = Circle(\n",
    "            radius=self.outer_radius, fill_opacity=1, color=primary_color\n",
    "        ).move_to(center)\n",
    "        self.inner_circle = Circle(\n",
    "            radius=self.inner_radius, fill_opacity=1, color=bg_color\n",
    "        ).move_to(center)\n",
    "        self.vtime = 0\n",
    "\n",
    "        self.ticks = []\n",
    "        for n in range(8):\n",
    "            angle = n * 2 * PI / 8\n",
    "            vec = point(np.cos(angle), np.sin(angle))\n",
    "            start = self.main_center + 0.8 * vec * self.inner_radius\n",
    "            end = self.main_center + 0.9 * vec * self.inner_radius\n",
    "            tick_line = Line(start=start, end=end, stroke_width=DEFAULT_STROKE_WIDTH / 2)\n",
    "            self.ticks.append(tick_line)\n",
    "\n",
    "        self.center_axle = Dot(point=center)\n",
    "        self.ticker_line = Line(start=center, end=center + 0.75 * UP)\n",
    "        self.ticker = Polygon(\n",
    "            center + 0.75 * self.inner_radius,\n",
    "            center + (DEFAULT_DOT_RADIUS / 3) * RIGHT,\n",
    "            center + (DEFAULT_DOT_RADIUS / 3) * LEFT,\n",
    "            fill_opacity=1,\n",
    "        )\n",
    "        \n",
    "        self.ghost_ticker = DashedLine(self.main_center, self.main_center+0.75*self.inner_radius*UP, color=bg_color)\n",
    "        self.time_sector = AnnularSector(inner_radius=self.inner_radius*0.5,outer_radius=self.inner_radius*0.75,angle=self.ticker_line.get_angle(), start_angle=PI/2, color=bg_color)\n",
    "\n",
    "        vmobjects = [\n",
    "            self.outer_circle,\n",
    "            self.inner_circle,\n",
    "            self.ghost_ticker,\n",
    "            *self.ticks,\n",
    "            self.time_sector,\n",
    "            self.center_axle,\n",
    "            self.ticker,\n",
    "        ]\n",
    "        super().__init__(*vmobjects)\n",
    "        \n",
    "    def update_ticker(self,dt):\n",
    "        new_time = self.vtime+dt\n",
    "        self.ticker_line.rotate(angle=-dt, about_point=self.main_center)\n",
    "        self.ticker.rotate(angle=-dt, about_point=self.main_center)\n",
    "        self.time_sector.become(AnnularSector(inner_radius=self.inner_radius*0.5,outer_radius=self.inner_radius*0.75,angle=self.ticker_line.get_angle()-3*PI/4, start_angle=PI/2, color=RED))\n",
    "        if self.vtime == 0:\n",
    "            self.ghost_ticker.set_color(self.primary_color)\n",
    "        self.vtime = new_time\n",
    "        \n",
    "        \n",
    "    def start_running(self):\n",
    "        self.add_updater(lambda _,dt: self.update_ticker(dt))\n",
    "        \n"
   ]
  },
  {
   "cell_type": "code",
   "execution_count": null,
   "metadata": {},
   "outputs": [],
   "source": []
  }
 ],
 "metadata": {
  "interpreter": {
   "hash": "aee8b7b246df8f9039afb4144a1f6fd8d2ca17a180786b69acc140d282b71a49"
  },
  "kernelspec": {
   "display_name": "Python 3.9.7 64-bit",
   "language": "python",
   "name": "python3"
  },
  "language_info": {
   "codemirror_mode": {
    "name": "ipython",
    "version": 3
   },
   "file_extension": ".py",
   "mimetype": "text/x-python",
   "name": "python",
   "nbconvert_exporter": "python",
   "pygments_lexer": "ipython3",
   "version": "3.9.7"
  },
  "orig_nbformat": 4
 },
 "nbformat": 4,
 "nbformat_minor": 2
}
