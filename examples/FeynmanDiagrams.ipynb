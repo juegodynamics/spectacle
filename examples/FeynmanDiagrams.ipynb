{
 "cells": [
  {
   "cell_type": "code",
   "execution_count": 4,
   "metadata": {},
   "outputs": [],
   "source": [
    "from spectacle import *"
   ]
  },
  {
   "cell_type": "code",
   "execution_count": 3,
   "metadata": {},
   "outputs": [
    {
     "name": "stderr",
     "output_type": "stream",
     "text": [
      "                                                                                                                       \r"
     ]
    },
    {
     "data": {
      "text/html": [
       "<video src=\"media/jupyter/Gallery_QED_FeynmanDiagramScene@2022-01-07@03-27-57.mp4\" controls autoplay loop style=\"max-width: 60%;\"  >\n",
       "      Your browser does not support the <code>video</code> element.\n",
       "    </video>"
      ],
      "text/plain": [
       "<IPython.core.display.Video object>"
      ]
     },
     "metadata": {},
     "output_type": "display_data"
    }
   ],
   "source": [
    "%%manim -v WARNING --disable_caching -qm Gallery_QED_FeynmanDiagramScene\n",
    "\n",
    "class Gallery_QED_FeynmanDiagramScene(Scene):\n",
    "    def construct(self):\n",
    "        incoming_electrons = [\n",
    "            ChargedParticle(\n",
    "                start=2 * LEFT + n,\n",
    "                end=LEFT,\n",
    "                label=ELECTRON,\n",
    "            )\n",
    "            for n in [UP, DOWN]\n",
    "        ]\n",
    "\n",
    "        photon = Photon(start=LEFT, end=RIGHT, label=PHOTON)\n",
    "\n",
    "        outgoing_electrons = [\n",
    "            ChargedParticle(start=RIGHT, end=2 * RIGHT + n, label=ELECTRON) for n in [UP, DOWN]\n",
    "        ]\n",
    "\n",
    "        self.play(*[Create(n) for n in incoming_electrons])\n",
    "        self.play(Create(photon))\n",
    "        self.play(*[Create(n) for n in outgoing_electrons])\n",
    "        self.wait()\n",
    "\n",
    "        self.play(*list(map(lambda p: p.animate.set_color(RED), incoming_electrons)))\n",
    "        self.play(photon.animate.set_color(YELLOW))\n",
    "        self.play(*list(map(lambda p: p.animate.set_color(RED), outgoing_electrons)))\n",
    "        \n",
    "\n",
    "\n",
    "        \n",
    "\n"
   ]
  }
 ],
 "metadata": {
  "interpreter": {
   "hash": "aee8b7b246df8f9039afb4144a1f6fd8d2ca17a180786b69acc140d282b71a49"
  },
  "kernelspec": {
   "display_name": "Python 3.9.7 64-bit",
   "language": "python",
   "name": "python3"
  },
  "language_info": {
   "codemirror_mode": {
    "name": "ipython",
    "version": 3
   },
   "file_extension": ".py",
   "mimetype": "text/x-python",
   "name": "python",
   "nbconvert_exporter": "python",
   "pygments_lexer": "ipython3",
   "version": "3.9.7"
  },
  "orig_nbformat": 4
 },
 "nbformat": 4,
 "nbformat_minor": 2
}
