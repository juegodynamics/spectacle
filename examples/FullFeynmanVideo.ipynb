{
 "cells": [
  {
   "cell_type": "code",
   "execution_count": 2,
   "metadata": {},
   "outputs": [
    {
     "data": {
      "text/html": [
       "<pre style=\"white-space:pre;overflow-x:auto;line-height:normal;font-family:Menlo,'DejaVu Sans Mono',consolas,'Courier New',monospace\">Manim Community <span style=\"color: #008000; text-decoration-color: #008000\">v0.14.0</span>\n",
       "\n",
       "</pre>\n"
      ],
      "text/plain": [
       "Manim Community \u001b[32mv0.\u001b[0m\u001b[32m14.0\u001b[0m\n",
       "\n"
      ]
     },
     "metadata": {},
     "output_type": "display_data"
    },
    {
     "name": "stdout",
     "output_type": "stream",
     "text": [
      "Welcome to spectacle\n"
     ]
    }
   ],
   "source": [
    "from spectacle import *"
   ]
  },
  {
   "cell_type": "code",
   "execution_count": 76,
   "metadata": {},
   "outputs": [
    {
     "name": "stderr",
     "output_type": "stream",
     "text": [
      "                                                                                                                         \r"
     ]
    },
    {
     "data": {
      "text/html": [
       "<video src=\"media/jupyter/FeynmanVideo@2022-01-16@22-21-08.mp4\" controls autoplay loop style=\"max-width: 60%;\"  >\n",
       "      Your browser does not support the <code>video</code> element.\n",
       "    </video>"
      ],
      "text/plain": [
       "<IPython.core.display.Video object>"
      ]
     },
     "metadata": {},
     "output_type": "display_data"
    }
   ],
   "source": [
    "%%manim -v WARNING -ql FeynmanVideo\n",
    "\n",
    "def make_electron_ball():\n",
    "    return VGroup(Circle(radius=0.25,color=GREEN,fill_opacity=1), MathTex(ELECTRON, color=BLACK))\n",
    "\n",
    "def make_electron_shell():\n",
    "    return VGroup(Circle(radius=0.25,color=GREEN), MathTex(ELECTRON))\n",
    "\n",
    "class ElectricCharge(VGroup):\n",
    "    def __init__(self, center=ORIGIN, init_velocity=ORIGIN, charge=1, is_shell=False):\n",
    "        self.center = center\n",
    "        self.charge = charge\n",
    "        self.is_shell = is_shell\n",
    "        mobject_func = {True: make_electron_shell}.get(is_shell, make_electron_ball) \n",
    "        \n",
    "        self.mobject = mobject_func().move_to(center)\n",
    "\n",
    "        self.velocity = init_velocity\n",
    "        \n",
    "        self.acceleration = point(0,0)\n",
    "        # self.acceleration_vector = Arrow(start=self.center, end=self.center+self.acceleration, buff=0)\n",
    "        \n",
    "        vmobjects = [self.mobject]\n",
    "        \n",
    "    \n",
    "        \n",
    "        \n",
    "        super().__init__(*vmobjects)\n",
    "    \n",
    "    def get_center(self):\n",
    "        return self.center    \n",
    "    \n",
    "    def get_source_func(self, p):\n",
    "        x, y, = p[0], p[1]\n",
    "        x0, y0 = self.center[0], self.center[1]\n",
    "        r = np.linalg.norm(point(x-x0, y-y0))\n",
    "        if r <= 0.15:\n",
    "            return point(0, 0)\n",
    "        efield_mag = 1/(r**3)\n",
    "        return self.charge*point((x-x0)*efield_mag,(y-y0)*efield_mag)\n",
    "    \n",
    "    def get_ball(self):\n",
    "        return self.mobject\n",
    "    \n",
    "    \n",
    "    def update_position_by_field(self, mobject, dt):\n",
    "        self.acceleration = self.charge * self.field_func(self.center)\n",
    "        self.velocity = self.velocity + self.acceleration*dt\n",
    "        self.center = self.center + self.velocity * dt\n",
    "        \n",
    "        mobject.move_to(self.center)\n",
    "        \n",
    "    def get_updater_by_field(self, field_func):\n",
    "        self.field_func = field_func\n",
    "        return lambda mob, dt: self.update_position_by_field(mob, dt)\n",
    "        \n",
    "\n",
    "class FeynmanVideo(Scene):\n",
    "    \n",
    "    def construct(self):\n",
    "        self.scene1()\n",
    "        self.scene2()\n",
    "        \n",
    "    def scene1(self):\n",
    "        \"\"\"Scene 1:\n",
    "        Show an electron generating an electric field\n",
    "        \"\"\"\n",
    "        bound = 10\n",
    "        dx = 0.5\n",
    "        x_diff = 2\n",
    "        \n",
    "        held_electron = ElectricCharge(center=LEFT*x_diff, charge=10)\n",
    "        efield = ArrowVectorField(held_electron.get_source_func)\n",
    "        self.add(efield, held_electron.get_ball().shift(OUT))\n",
    "        \n",
    "        # efield.start_animation(warm_up=False, flow_speed=1.5)\n",
    "        \n",
    "        self.wait(4)\n",
    "        \n",
    "        \n",
    "        free_electron = ElectricCharge(center=RIGHT*x_diff+DOWN*4.2, init_velocity=point(-0.85,2), is_shell=True)\n",
    "        self.add(free_electron)\n",
    "        \n",
    "        free_electron.add_updater(free_electron.get_updater_by_field(held_electron.get_source_func))\n",
    "        \n",
    "        self.play(FadeIn(free_electron),run_time=0.2)\n",
    "        \n",
    "        self.wait(10)\n",
    "        \n",
    "        self.play(efield.animate.set_color(BLACK), FadeOut(held_electron), FadeOut(free_electron), run_time=2)\n",
    "        \n",
    "    def scene2(self):\n",
    "        \"\"\"Scene 2:\n",
    "        Show two electrons repelling\n",
    "        \"\"\"\n",
    "        x_diff = 2\n",
    "        \n",
    "        field_height = 0.25\n",
    "        \n",
    "        left_center = LEFT*x_diff+DOWN*4.2\n",
    "        right_center = RIGHT*x_diff+DOWN*4.2\n",
    "        \n",
    "        free_electron_left = ElectricCharge(center=left_center, init_velocity=point(0.75,1.8), is_shell=True, charge=2)\n",
    "        free_electron_right = ElectricCharge(center=right_center, init_velocity=point(-0.75,1.8), is_shell=True, charge=2)\n",
    "        \n",
    "        x_range = [left_center[0], right_center[0], 0.5]\n",
    "        y_range = [left_center[1]-field_height,left_center[1]+ field_height, field_height/5]\n",
    "        \n",
    "        efield_left = ArrowVectorField(free_electron_left.get_source_func)\n",
    "        efield_right = ArrowVectorField(free_electron_right.get_source_func)\n",
    "        \n",
    "        self.add(free_electron_left, free_electron_right, efield_left, efield_right)\n",
    "        \n",
    "        free_electron_left.add_updater(free_electron_left.get_updater_by_field(free_electron_right.get_source_func))\n",
    "        free_electron_right.add_updater(free_electron_right.get_updater_by_field(free_electron_left.get_source_func))\n",
    "        \n",
    "        \n",
    "        \n",
    "        efield_left.add_updater(lambda field: field.become(\n",
    "            ArrowVectorField(\n",
    "                lambda p: free_electron_left.get_source_func(p),\n",
    "            )\n",
    "        ))\n",
    "        \n",
    "        efield_right.add_updater(lambda field: field.become(\n",
    "            ArrowVectorField(\n",
    "                lambda p: free_electron_right.get_source_func(p),\n",
    "            )\n",
    "        ))\n",
    "        \n",
    "        self.wait(1)\n",
    "        \n",
    "        \n",
    "        \n",
    "        \n",
    "        \n",
    "        \n",
    "        \n",
    "        \n",
    "        \n",
    "        # efield.start_animation(flow_speed=3)\n",
    "        # self.wait(3*efield.virtual_time/efield.flow_speed)\n",
    "        \n",
    "        "
   ]
  },
  {
   "cell_type": "code",
   "execution_count": null,
   "metadata": {},
   "outputs": [],
   "source": []
  }
 ],
 "metadata": {
  "interpreter": {
   "hash": "aee8b7b246df8f9039afb4144a1f6fd8d2ca17a180786b69acc140d282b71a49"
  },
  "kernelspec": {
   "display_name": "Python 3.9.7 64-bit",
   "language": "python",
   "name": "python3"
  },
  "language_info": {
   "codemirror_mode": {
    "name": "ipython",
    "version": 3
   },
   "file_extension": ".py",
   "mimetype": "text/x-python",
   "name": "python",
   "nbconvert_exporter": "python",
   "pygments_lexer": "ipython3",
   "version": "3.9.7"
  },
  "orig_nbformat": 4
 },
 "nbformat": 4,
 "nbformat_minor": 2
}
